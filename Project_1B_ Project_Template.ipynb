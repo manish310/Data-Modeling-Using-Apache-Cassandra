{
 "cells": [
  {
   "cell_type": "markdown",
   "metadata": {},
   "source": [
    "# Part I. ETL Pipeline for Pre-Processing the Files"
   ]
  },
  {
   "cell_type": "markdown",
   "metadata": {},
   "source": [
    "#### Import Python packages "
   ]
  },
  {
   "cell_type": "code",
   "execution_count": 60,
   "metadata": {},
   "outputs": [],
   "source": [
    "# Import Python packages \n",
    "import pandas as pd\n",
    "import cassandra\n",
    "import re\n",
    "import os\n",
    "import glob\n",
    "import numpy as np\n",
    "import json\n",
    "import csv"
   ]
  },
  {
   "cell_type": "markdown",
   "metadata": {},
   "source": [
    "#### Creating list of filepaths to process original event csv data files"
   ]
  },
  {
   "cell_type": "code",
   "execution_count": 61,
   "metadata": {},
   "outputs": [
    {
     "name": "stdout",
     "output_type": "stream",
     "text": [
      "/home/workspace\n"
     ]
    }
   ],
   "source": [
    "# checking your current working directory\n",
    "print(os.getcwd())\n",
    "\n",
    "# Get your current folder and subfolder event data\n",
    "filepath = os.getcwd() + '/event_data'\n",
    "\n",
    "# Create a for loop to create a list of files and collect each filepath\n",
    "for root, dirs, files in os.walk(filepath):\n",
    "    \n",
    "# join the file path and roots with the subdirectories using glob\n",
    "    file_path_list = glob.glob(os.path.join(root,'*'))\n",
    "    #print(file_path_list)"
   ]
  },
  {
   "cell_type": "markdown",
   "metadata": {},
   "source": [
    "#### Processing the files to create the data file csv that will be used for Apache Casssandra tables"
   ]
  },
  {
   "cell_type": "code",
   "execution_count": 62,
   "metadata": {},
   "outputs": [],
   "source": [
    "# initiating an empty list of rows that will be generated from each file\n",
    "full_data_rows_list = [] \n",
    "    \n",
    "# for every filepath in the file path list \n",
    "for f in file_path_list:\n",
    "\n",
    "# reading csv file \n",
    "    with open(f, 'r', encoding = 'utf8', newline='') as csvfile: \n",
    "        # creating a csv reader object \n",
    "        csvreader = csv.reader(csvfile) \n",
    "        next(csvreader)\n",
    "        \n",
    " # extracting each data row one by one and append it        \n",
    "        for line in csvreader:\n",
    "            #print(line)\n",
    "            full_data_rows_list.append(line) \n",
    "            \n",
    "# uncomment the code below if you would like to get total number of rows \n",
    "#print(len(full_data_rows_list))\n",
    "# uncomment the code below if you would like to check to see what the list of event data rows will look like\n",
    "#print(full_data_rows_list)\n",
    "\n",
    "# creating a smaller event data csv file called event_datafile_full csv that will be used to insert data into the \\\n",
    "# Apache Cassandra tables\n",
    "csv.register_dialect('myDialect', quoting=csv.QUOTE_ALL, skipinitialspace=True)\n",
    "\n",
    "with open('event_datafile_new.csv', 'w', encoding = 'utf8', newline='') as f:\n",
    "    writer = csv.writer(f, dialect='myDialect')\n",
    "    writer.writerow(['artist','firstName','gender','itemInSession','lastName','length',\\\n",
    "                'level','location','sessionId','song','userId'])\n",
    "    for row in full_data_rows_list:\n",
    "        if (row[0] == ''):\n",
    "            continue\n",
    "        writer.writerow((row[0], row[2], row[3], row[4], row[5], row[6], row[7], row[8], row[12], row[13], row[16]))\n"
   ]
  },
  {
   "cell_type": "code",
   "execution_count": 63,
   "metadata": {},
   "outputs": [
    {
     "name": "stdout",
     "output_type": "stream",
     "text": [
      "6821\n"
     ]
    }
   ],
   "source": [
    "# check the number of rows in your csv file\n",
    "with open('event_datafile_new.csv', 'r', encoding = 'utf8') as f:\n",
    "    print(sum(1 for line in f))"
   ]
  },
  {
   "cell_type": "markdown",
   "metadata": {},
   "source": [
    "# Part II. Complete the Apache Cassandra coding portion of your project. \n",
    "\n",
    "#### Now you are ready to work with the CSV file titled <font color=red>event_datafile_new.csv</font>, located within the Workspace directory.  The event_datafile_new.csv contains the following columns: \n",
    "- artist \n",
    "- firstName of user\n",
    "- gender of user\n",
    "- item number in session\n",
    "- last name of user\n",
    "- length of the song\n",
    "- level (paid or free song)\n",
    "- location of the user\n",
    "- sessionId\n",
    "- song title\n",
    "- userId\n",
    "\n",
    "The image below is a screenshot of what the denormalized data should appear like in the <font color=red>**event_datafile_new.csv**</font> after the code above is run:<br>\n",
    "\n",
    "<img src=\"images/image_event_datafile_new.jpg\">"
   ]
  },
  {
   "cell_type": "markdown",
   "metadata": {},
   "source": [
    "### Begin writing your Apache Cassandra code in the cells below"
   ]
  },
  {
   "cell_type": "markdown",
   "metadata": {},
   "source": [
    "#### Creating a Cluster"
   ]
  },
  {
   "cell_type": "code",
   "execution_count": 64,
   "metadata": {},
   "outputs": [],
   "source": [
    "# This should make a connection to a Cassandra instance your local machine \n",
    "# (127.0.0.1)\n",
    "\n",
    "from cassandra.cluster import Cluster\n",
    "cluster = Cluster()\n",
    "\n",
    "# To establish connection and begin executing queries, need a session\n",
    "session = cluster.connect()"
   ]
  },
  {
   "cell_type": "markdown",
   "metadata": {},
   "source": [
    "#### Create Keyspace"
   ]
  },
  {
   "cell_type": "code",
   "execution_count": 65,
   "metadata": {},
   "outputs": [
    {
     "data": {
      "text/plain": [
       "<cassandra.cluster.ResultSet at 0x7f2dd4802240>"
      ]
     },
     "execution_count": 65,
     "metadata": {},
     "output_type": "execute_result"
    }
   ],
   "source": [
    "# Create a Keyspace \n",
    "session.execute(\"\"\"CREATE KEYSPACE IF NOT EXISTS sparkify WITH REPLICATION ={'class':'SimpleStrategy',\\\n",
    "                   'replication_factor':1}\"\"\")"
   ]
  },
  {
   "cell_type": "markdown",
   "metadata": {},
   "source": [
    "#### Set Keyspace"
   ]
  },
  {
   "cell_type": "code",
   "execution_count": 66,
   "metadata": {},
   "outputs": [],
   "source": [
    "# Set KEYSPACE to the keyspace specified above\n",
    "session.set_keyspace('sparkify')"
   ]
  },
  {
   "cell_type": "markdown",
   "metadata": {},
   "source": [
    "### Now we need to create tables to run the following queries. Remember, with Apache Cassandra you model the database tables on the queries you want to run."
   ]
  },
  {
   "cell_type": "markdown",
   "metadata": {},
   "source": [
    "### Create queries to ask the following three questions of the data\n",
    "\n",
    ">*1. Give me the artist, song title and song's length in the music app history that was heard during  sessionId = 338, and itemInSession  = 4.*\n",
    "\n",
    ">*2. Give me only the following: name of artist, song (sorted by itemInSession) and user (first and last name) for userid = 10, sessionid = 182.*\n",
    "\n",
    ">*3. Give me every user name (first and last) in my music app history who listened to the song 'All Hands Against His Own'.*\n",
    "\n",
    "\n"
   ]
  },
  {
   "cell_type": "markdown",
   "metadata": {},
   "source": [
    "### *Query 1. Give me the artist, song title and song's length in the music app history that was heard during sessionId = 338, and itemInSession = 4*\n"
   ]
  },
  {
   "cell_type": "code",
   "execution_count": 67,
   "metadata": {},
   "outputs": [],
   "source": [
    "#\n",
    "# As design of Cassandra tables are mainly based on the type and nature of the query, to implement the \n",
    "# Query 1 (as above) we can think of (session_id, item_in_session) as primary key\n",
    "# (partition key=session_id,clustering key=item_in_session).In Sparkify App, each time a user logged \n",
    "# in is assigned a unique session id. In a particular session, a user can listen many songs, it also assign   \n",
    "# a unique number for each song in a given session. Hence, to get unique record in this scenario \n",
    "# (session_id, item_in_session) would be sufficient.\n",
    "# Other than this we need to include columns such as: artist, song_title and song_length in the table design.\n",
    "#\n",
    "query=\"CREATE TABLE IF NOT EXISTS music_app_history\"\n",
    "query=query+\"(session_id INT,item_in_session INT,artist TEXT,song_title TEXT,song_length FLOAT,\\\n",
    "              PRIMARY KEY(session_id,item_in_session))\"\n",
    "session.execute(query);                    "
   ]
  },
  {
   "cell_type": "code",
   "execution_count": 68,
   "metadata": {
    "scrolled": false
   },
   "outputs": [],
   "source": [
    "# Reading data from csv file to load into Cassandra tables.\n",
    "file = 'event_datafile_new.csv'\n",
    "\n",
    "with open(file, encoding = 'utf8') as f:\n",
    "    csvreader = csv.reader(f)\n",
    "    next(csvreader) # skip header\n",
    "    for line in csvreader:\n",
    "        #print(line)\n",
    "# Assigning the INSERT statements into the `query` variable\n",
    "        query = \"INSERT INTO music_app_history(session_id,item_in_session,artist,song_title,song_length) \"\n",
    "        query = query + \"VALUES(%s,%s,%s,%s,%s)\"\n",
    "        session.execute(query, (int(line[8]),int(line[3]),line[0],line[9],float(line[5])))"
   ]
  },
  {
   "cell_type": "code",
   "execution_count": 69,
   "metadata": {
    "scrolled": true
   },
   "outputs": [
    {
     "name": "stdout",
     "output_type": "stream",
     "text": [
      "Query 1.:SELECT artist, song_title, song_length FROM music_app_history WHERE session_id = 338 and item_in_session = 4;\n",
      "\n",
      "OUTPUT:\n",
      "\n"
     ]
    },
    {
     "data": {
      "text/html": [
       "<div>\n",
       "<style scoped>\n",
       "    .dataframe tbody tr th:only-of-type {\n",
       "        vertical-align: middle;\n",
       "    }\n",
       "\n",
       "    .dataframe tbody tr th {\n",
       "        vertical-align: top;\n",
       "    }\n",
       "\n",
       "    .dataframe thead th {\n",
       "        text-align: right;\n",
       "    }\n",
       "</style>\n",
       "<table border=\"1\" class=\"dataframe\">\n",
       "  <thead>\n",
       "    <tr style=\"text-align: right;\">\n",
       "      <th></th>\n",
       "      <th>artist</th>\n",
       "      <th>song_title</th>\n",
       "      <th>song_length</th>\n",
       "    </tr>\n",
       "  </thead>\n",
       "  <tbody>\n",
       "    <tr>\n",
       "      <th>0</th>\n",
       "      <td>Faithless</td>\n",
       "      <td>Music Matters (Mark Knight Dub)</td>\n",
       "      <td>495.307312</td>\n",
       "    </tr>\n",
       "  </tbody>\n",
       "</table>\n",
       "</div>"
      ],
      "text/plain": [
       "      artist                       song_title  song_length\n",
       "0  Faithless  Music Matters (Mark Knight Dub)   495.307312"
      ]
     },
     "execution_count": 69,
     "metadata": {},
     "output_type": "execute_result"
    }
   ],
   "source": [
    "# Adding the SELECT statement to verify the data was entered into the table.\n",
    "#\n",
    "# We are to find out song's details for the session_id=338 and item_in_session=4\n",
    "# so clealy our WHERE clause will conatin session_id and item_in_session \n",
    "# Song's details we want are artist name, song name and song lengh so\n",
    "# SELECT clause will contain these columns.\n",
    "#\n",
    "query=(\"SELECT artist, song_title, song_length FROM music_app_history WHERE\" \\\n",
    "                      \" session_id = 338 and item_in_session = 4;\")\n",
    "rows=session.execute(query)\n",
    "dict={}\n",
    "df=pd.DataFrame(dict,columns=['artist','song_title','song_length'])\n",
    "for row in rows:\n",
    "    #print(row.firstname,row.lastname)\n",
    "    dict={'artist':row.artist,'song_title':row.song_title,'song_length':row.song_length}\n",
    "    #print(dict)\n",
    "    df=df.append(dict,ignore_index=True)    \n",
    "print(\"Query 1.:{}\\n\".format(query))    \n",
    "print(\"OUTPUT:\\n\")\n",
    "df    "
   ]
  },
  {
   "cell_type": "markdown",
   "metadata": {},
   "source": [
    "### *Query 2. Give me only the following: name of artist, song (sorted by itemInSession) and user (first and last name) for userid = 10, sessionid = 182*"
   ]
  },
  {
   "cell_type": "code",
   "execution_count": 70,
   "metadata": {},
   "outputs": [],
   "source": [
    "#\n",
    "# In this query we filter data based on user_id and session-id, so these two columns will be part of\n",
    "# partition key and as the songs are required to be sorted by item_in_session so it will be included in\n",
    "# clustering key. Hence,our primary key would be ((user_id,session_id),item_in_session)).\n",
    "# As previously we have seen in Query 1 that even (session_id,item_in _session) pair is able to \n",
    "# identify the unique row. In Cassandra query dictates the DB design, so our PK should be according to that only.\n",
    "# In addition to above keys columns we need to include artist name, song_title, first name and lastname\n",
    "# in our table design.\n",
    "#\n",
    "query=\"CREATE TABLE IF NOT EXISTS music_app_session\"\n",
    "query=query+\"(user_id int,session_id INT,item_in_session INT,artist TEXT,song_title TEXT,firstname TEXT,lastname TEXT,\\\n",
    "              PRIMARY KEY((user_id,session_id),item_in_session)) WITH CLUSTERING ORDER BY (item_in_session DESC);\"\n",
    "session.execute(query); "
   ]
  },
  {
   "cell_type": "code",
   "execution_count": 71,
   "metadata": {},
   "outputs": [],
   "source": [
    "# Reading data from csv file to load into Cassandra tables.\n",
    "file = 'event_datafile_new.csv'\n",
    "\n",
    "with open(file, encoding = 'utf8') as f:\n",
    "    csvreader = csv.reader(f)\n",
    "    next(csvreader) # skip header\n",
    "    for line in csvreader:\n",
    "        #print(line)\n",
    "# Assigning the INSERT statements into the `query` variable\n",
    "        query = \"INSERT INTO music_app_session(user_id,session_id,item_in_session,artist,song_title,firstname,lastname)\"\n",
    "        query = query + \"VALUES(%s,%s,%s,%s,%s,%s,%s)\"\n",
    "        session.execute(query, (int(line[10]),int(line[8]),int(line[3]),line[0],line[9],line[1],line[4]))"
   ]
  },
  {
   "cell_type": "code",
   "execution_count": 72,
   "metadata": {},
   "outputs": [
    {
     "name": "stdout",
     "output_type": "stream",
     "text": [
      "Query 2.:SELECT artist, song_title, item_in_session, firstname, lastname FROM music_app_session WHERE user_id = 10 and session_id = 182;\n",
      "\n",
      "OUTPUT:\n",
      "\n"
     ]
    },
    {
     "data": {
      "text/html": [
       "<div>\n",
       "<style scoped>\n",
       "    .dataframe tbody tr th:only-of-type {\n",
       "        vertical-align: middle;\n",
       "    }\n",
       "\n",
       "    .dataframe tbody tr th {\n",
       "        vertical-align: top;\n",
       "    }\n",
       "\n",
       "    .dataframe thead th {\n",
       "        text-align: right;\n",
       "    }\n",
       "</style>\n",
       "<table border=\"1\" class=\"dataframe\">\n",
       "  <thead>\n",
       "    <tr style=\"text-align: right;\">\n",
       "      <th></th>\n",
       "      <th>FirtName</th>\n",
       "      <th>LastName</th>\n",
       "      <th>artist</th>\n",
       "      <th>item_in_session</th>\n",
       "      <th>song_title</th>\n",
       "    </tr>\n",
       "  </thead>\n",
       "  <tbody>\n",
       "    <tr>\n",
       "      <th>0</th>\n",
       "      <td>Sylvie</td>\n",
       "      <td>Cruz</td>\n",
       "      <td>Lonnie Gordon</td>\n",
       "      <td>3.0</td>\n",
       "      <td>Catch You Baby (Steve Pitron &amp; Max Sanna Radio...</td>\n",
       "    </tr>\n",
       "    <tr>\n",
       "      <th>1</th>\n",
       "      <td>Sylvie</td>\n",
       "      <td>Cruz</td>\n",
       "      <td>Sebastien Tellier</td>\n",
       "      <td>2.0</td>\n",
       "      <td>Kilometer</td>\n",
       "    </tr>\n",
       "    <tr>\n",
       "      <th>2</th>\n",
       "      <td>Sylvie</td>\n",
       "      <td>Cruz</td>\n",
       "      <td>Three Drives</td>\n",
       "      <td>1.0</td>\n",
       "      <td>Greece 2000</td>\n",
       "    </tr>\n",
       "    <tr>\n",
       "      <th>3</th>\n",
       "      <td>Sylvie</td>\n",
       "      <td>Cruz</td>\n",
       "      <td>Down To The Bone</td>\n",
       "      <td>0.0</td>\n",
       "      <td>Keep On Keepin' On</td>\n",
       "    </tr>\n",
       "  </tbody>\n",
       "</table>\n",
       "</div>"
      ],
      "text/plain": [
       "  FirtName LastName             artist  item_in_session  \\\n",
       "0   Sylvie     Cruz      Lonnie Gordon              3.0   \n",
       "1   Sylvie     Cruz  Sebastien Tellier              2.0   \n",
       "2   Sylvie     Cruz       Three Drives              1.0   \n",
       "3   Sylvie     Cruz   Down To The Bone              0.0   \n",
       "\n",
       "                                          song_title  \n",
       "0  Catch You Baby (Steve Pitron & Max Sanna Radio...  \n",
       "1                                          Kilometer  \n",
       "2                                        Greece 2000  \n",
       "3                                 Keep On Keepin' On  "
      ]
     },
     "execution_count": 72,
     "metadata": {},
     "output_type": "execute_result"
    }
   ],
   "source": [
    "# Adding the SELECT statement to verify the data was entered into the table.\n",
    "#\n",
    "# Here in this query data needs to be filtered on the basis of user_id and session_id\n",
    "# so WHERE contains these two columns and in the SELECT statement we wants columns such as\n",
    "# artist name, song name, number of items in session, firstname of the user, last name of the user.\n",
    "#\n",
    "\n",
    "query=(\"SELECT artist, song_title, item_in_session, firstname, lastname FROM music_app_session WHERE \" \\\n",
    "        \"user_id = 10 and session_id = 182;\")\n",
    "rows=session.execute(query)\n",
    "dict={}\n",
    "df=pd.DataFrame(dict)\n",
    "for row in rows:\n",
    "    #print(row.firstname,row.lastname)\n",
    "    dict={'artist':row.artist,'song_title':row.song_title,'item_in_session':row.item_in_session,\\\n",
    "          'FirtName':row.firstname,'LastName':row.lastname}\n",
    "    #print(dict)\n",
    "    df=df.append(dict,ignore_index=True)                     \n",
    "print(\"Query 2.:{}\\n\".format(query))    \n",
    "print(\"OUTPUT:\\n\")\n",
    "df "
   ]
  },
  {
   "cell_type": "markdown",
   "metadata": {},
   "source": [
    "### *Query 3. Give me every user name (first and last) in my music app history who listened to the song 'All Hands Against His Own'.*"
   ]
  },
  {
   "cell_type": "code",
   "execution_count": 73,
   "metadata": {},
   "outputs": [],
   "source": [
    "#  \n",
    "# In this query, data is filtered based on song names so 'song_title' will be our partion key.\n",
    "# As we can see, 'song_title' alone can not uniquely define row so we need to think of other\n",
    "# column as clustering key to form the primary key. Also, we are looking for minimum number of \n",
    "# columns in as a part of clustering key, the 'user_id' would be a good choice.\n",
    "# So our primary key would be (song_title,user_id).\n",
    "# Other than this we need to include firstname and lastname in our table design.\n",
    "#\n",
    "query=\"CREATE TABLE IF NOT EXISTS music_app_song\"\n",
    "query=query+\"(song_title TEXT,user_id INT,firstname TEXT,lastname TEXT,\\\n",
    "              PRIMARY KEY(song_title,user_id))\"\n",
    "session.execute(query);                  "
   ]
  },
  {
   "cell_type": "code",
   "execution_count": 74,
   "metadata": {},
   "outputs": [],
   "source": [
    "# Reading data from csv file to load into Cassandra tables.\n",
    "file = 'event_datafile_new.csv'\n",
    "\n",
    "with open(file, encoding = 'utf8') as f:\n",
    "    csvreader = csv.reader(f)\n",
    "    next(csvreader) # skip header\n",
    "    for line in csvreader:\n",
    "        #print(line)\n",
    "# Assigning the INSERT statements into the `query` variable\n",
    "        query = \"INSERT INTO music_app_song(song_title,user_id,firstname,lastname) \"\n",
    "        query = query + \"VALUES(%s,%s,%s,%s)\"\n",
    "        session.execute(query, (line[9],int(line[10]),line[1],line[4]))"
   ]
  },
  {
   "cell_type": "code",
   "execution_count": 75,
   "metadata": {},
   "outputs": [
    {
     "name": "stdout",
     "output_type": "stream",
     "text": [
      "Query 2.:SELECT firstname, lastname FROM music_app_song WHERE song_title='All Hands Against His Own';\n",
      "\n",
      "OUTPUT:\n",
      "\n"
     ]
    },
    {
     "data": {
      "text/html": [
       "<div>\n",
       "<style scoped>\n",
       "    .dataframe tbody tr th:only-of-type {\n",
       "        vertical-align: middle;\n",
       "    }\n",
       "\n",
       "    .dataframe tbody tr th {\n",
       "        vertical-align: top;\n",
       "    }\n",
       "\n",
       "    .dataframe thead th {\n",
       "        text-align: right;\n",
       "    }\n",
       "</style>\n",
       "<table border=\"1\" class=\"dataframe\">\n",
       "  <thead>\n",
       "    <tr style=\"text-align: right;\">\n",
       "      <th></th>\n",
       "      <th>FirstName</th>\n",
       "      <th>LastName</th>\n",
       "    </tr>\n",
       "  </thead>\n",
       "  <tbody>\n",
       "    <tr>\n",
       "      <th>0</th>\n",
       "      <td>Jacqueline</td>\n",
       "      <td>Lynch</td>\n",
       "    </tr>\n",
       "    <tr>\n",
       "      <th>1</th>\n",
       "      <td>Tegan</td>\n",
       "      <td>Levine</td>\n",
       "    </tr>\n",
       "    <tr>\n",
       "      <th>2</th>\n",
       "      <td>Sara</td>\n",
       "      <td>Johnson</td>\n",
       "    </tr>\n",
       "  </tbody>\n",
       "</table>\n",
       "</div>"
      ],
      "text/plain": [
       "    FirstName LastName\n",
       "0  Jacqueline    Lynch\n",
       "1       Tegan   Levine\n",
       "2        Sara  Johnson"
      ]
     },
     "execution_count": 75,
     "metadata": {},
     "output_type": "execute_result"
    }
   ],
   "source": [
    "# Adding the SELECT statement to verify the data was entered into the table.\n",
    "#\n",
    "# In the query, data is filtered based on song name hence where clause contains 'song_title'\n",
    "# In addition to that, in SELECt clasuse we incluse firstname of the user and lastname of the user.\n",
    "#\n",
    "query=(\"SELECT firstname, lastname FROM music_app_song \"\\\n",
    "       \"WHERE song_title='All Hands Against His Own';\")\n",
    "rows=session.execute(query)\n",
    "dict={}\n",
    "df=pd.DataFrame(dict,columns=['FirstName','LastName'])\n",
    "for row in rows:\n",
    "    #print(row.firstname,row.lastname)\n",
    "    dict={'FirstName':row.firstname,'LastName':row.lastname}\n",
    "    #print(dict)\n",
    "    df=df.append(dict,ignore_index=True)                     \n",
    "print(\"Query 2.:{}\\n\".format(query))    \n",
    "print(\"OUTPUT:\\n\")\n",
    "df                              "
   ]
  },
  {
   "cell_type": "markdown",
   "metadata": {},
   "source": [
    "### *Drop the tables before closing out the sessions*"
   ]
  },
  {
   "cell_type": "code",
   "execution_count": 76,
   "metadata": {},
   "outputs": [],
   "source": [
    "# Dropping the table before closing out the sessions\n",
    "session.execute(\"DROP TABLE IF EXISTS music_app_history;\");\n",
    "session.execute(\"DROP TABLE IF EXISTS music_app_session;\");\n",
    "session.execute(\"DROP TABLE IF EXISTS music_app_song;\");"
   ]
  },
  {
   "cell_type": "markdown",
   "metadata": {},
   "source": [
    "### *Close the session and cluster connection*"
   ]
  },
  {
   "cell_type": "code",
   "execution_count": 77,
   "metadata": {},
   "outputs": [],
   "source": [
    "session.shutdown()\n",
    "cluster.shutdown()"
   ]
  }
 ],
 "metadata": {
  "kernelspec": {
   "display_name": "Python 3",
   "language": "python",
   "name": "python3"
  },
  "language_info": {
   "codemirror_mode": {
    "name": "ipython",
    "version": 3
   },
   "file_extension": ".py",
   "mimetype": "text/x-python",
   "name": "python",
   "nbconvert_exporter": "python",
   "pygments_lexer": "ipython3",
   "version": "3.6.3"
  }
 },
 "nbformat": 4,
 "nbformat_minor": 2
}
